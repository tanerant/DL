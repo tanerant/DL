{
  "nbformat": 4,
  "nbformat_minor": 0,
  "metadata": {
    "colab": {
      "name": "MNIST_tensorflow2.ipynb",
      "provenance": [],
      "collapsed_sections": []
    },
    "kernelspec": {
      "name": "python3",
      "display_name": "Python 3"
    },
    "language_info": {
      "name": "python"
    },
    "widgets": {
      "application/vnd.jupyter.widget-state+json": {
        "a1bf64b73433421ca6eb28aa9c38dbd9": {
          "model_module": "@jupyter-widgets/controls",
          "model_name": "HBoxModel",
          "model_module_version": "1.5.0",
          "state": {
            "_view_name": "HBoxView",
            "_dom_classes": [],
            "_model_name": "HBoxModel",
            "_view_module": "@jupyter-widgets/controls",
            "_model_module_version": "1.5.0",
            "_view_count": null,
            "_view_module_version": "1.5.0",
            "box_style": "",
            "layout": "IPY_MODEL_ab8aeff5c9154334bde63620e6632c6e",
            "_model_module": "@jupyter-widgets/controls",
            "children": [
              "IPY_MODEL_6cef78dca6224e2a840ccbcab83b3bbe",
              "IPY_MODEL_c0c562388f4d4433b5159bfd82eca0f8",
              "IPY_MODEL_60c7744fab4f491bb3caa98137fdaece"
            ]
          }
        },
        "ab8aeff5c9154334bde63620e6632c6e": {
          "model_module": "@jupyter-widgets/base",
          "model_name": "LayoutModel",
          "model_module_version": "1.2.0",
          "state": {
            "_view_name": "LayoutView",
            "grid_template_rows": null,
            "right": null,
            "justify_content": null,
            "_view_module": "@jupyter-widgets/base",
            "overflow": null,
            "_model_module_version": "1.2.0",
            "_view_count": null,
            "flex_flow": null,
            "width": null,
            "min_width": null,
            "border": null,
            "align_items": null,
            "bottom": null,
            "_model_module": "@jupyter-widgets/base",
            "top": null,
            "grid_column": null,
            "overflow_y": null,
            "overflow_x": null,
            "grid_auto_flow": null,
            "grid_area": null,
            "grid_template_columns": null,
            "flex": null,
            "_model_name": "LayoutModel",
            "justify_items": null,
            "grid_row": null,
            "max_height": null,
            "align_content": null,
            "visibility": null,
            "align_self": null,
            "height": null,
            "min_height": null,
            "padding": null,
            "grid_auto_rows": null,
            "grid_gap": null,
            "max_width": null,
            "order": null,
            "_view_module_version": "1.2.0",
            "grid_template_areas": null,
            "object_position": null,
            "object_fit": null,
            "grid_auto_columns": null,
            "margin": null,
            "display": null,
            "left": null
          }
        },
        "6cef78dca6224e2a840ccbcab83b3bbe": {
          "model_module": "@jupyter-widgets/controls",
          "model_name": "HTMLModel",
          "model_module_version": "1.5.0",
          "state": {
            "_view_name": "HTMLView",
            "style": "IPY_MODEL_1087efd2929949919c784c10f78821e6",
            "_dom_classes": [],
            "description": "",
            "_model_name": "HTMLModel",
            "placeholder": "​",
            "_view_module": "@jupyter-widgets/controls",
            "_model_module_version": "1.5.0",
            "value": "Dl Completed...: 100%",
            "_view_count": null,
            "_view_module_version": "1.5.0",
            "description_tooltip": null,
            "_model_module": "@jupyter-widgets/controls",
            "layout": "IPY_MODEL_3afb9e107c4f45f9b88a54593781162f"
          }
        },
        "c0c562388f4d4433b5159bfd82eca0f8": {
          "model_module": "@jupyter-widgets/controls",
          "model_name": "FloatProgressModel",
          "model_module_version": "1.5.0",
          "state": {
            "_view_name": "ProgressView",
            "style": "IPY_MODEL_32017296839a4b48a97da22186fad530",
            "_dom_classes": [],
            "description": "",
            "_model_name": "FloatProgressModel",
            "bar_style": "success",
            "max": 4,
            "_view_module": "@jupyter-widgets/controls",
            "_model_module_version": "1.5.0",
            "value": 4,
            "_view_count": null,
            "_view_module_version": "1.5.0",
            "orientation": "horizontal",
            "min": 0,
            "description_tooltip": null,
            "_model_module": "@jupyter-widgets/controls",
            "layout": "IPY_MODEL_413bb060e27c479e9702f2490bda285a"
          }
        },
        "60c7744fab4f491bb3caa98137fdaece": {
          "model_module": "@jupyter-widgets/controls",
          "model_name": "HTMLModel",
          "model_module_version": "1.5.0",
          "state": {
            "_view_name": "HTMLView",
            "style": "IPY_MODEL_830607f2ffca4cbe9ce96f1ee2a5dc19",
            "_dom_classes": [],
            "description": "",
            "_model_name": "HTMLModel",
            "placeholder": "​",
            "_view_module": "@jupyter-widgets/controls",
            "_model_module_version": "1.5.0",
            "value": " 4/4 [00:00&lt;00:00,  9.93 file/s]",
            "_view_count": null,
            "_view_module_version": "1.5.0",
            "description_tooltip": null,
            "_model_module": "@jupyter-widgets/controls",
            "layout": "IPY_MODEL_3058c794407f4ff28c2f559627a4941e"
          }
        },
        "1087efd2929949919c784c10f78821e6": {
          "model_module": "@jupyter-widgets/controls",
          "model_name": "DescriptionStyleModel",
          "model_module_version": "1.5.0",
          "state": {
            "_view_name": "StyleView",
            "_model_name": "DescriptionStyleModel",
            "description_width": "",
            "_view_module": "@jupyter-widgets/base",
            "_model_module_version": "1.5.0",
            "_view_count": null,
            "_view_module_version": "1.2.0",
            "_model_module": "@jupyter-widgets/controls"
          }
        },
        "3afb9e107c4f45f9b88a54593781162f": {
          "model_module": "@jupyter-widgets/base",
          "model_name": "LayoutModel",
          "model_module_version": "1.2.0",
          "state": {
            "_view_name": "LayoutView",
            "grid_template_rows": null,
            "right": null,
            "justify_content": null,
            "_view_module": "@jupyter-widgets/base",
            "overflow": null,
            "_model_module_version": "1.2.0",
            "_view_count": null,
            "flex_flow": null,
            "width": null,
            "min_width": null,
            "border": null,
            "align_items": null,
            "bottom": null,
            "_model_module": "@jupyter-widgets/base",
            "top": null,
            "grid_column": null,
            "overflow_y": null,
            "overflow_x": null,
            "grid_auto_flow": null,
            "grid_area": null,
            "grid_template_columns": null,
            "flex": null,
            "_model_name": "LayoutModel",
            "justify_items": null,
            "grid_row": null,
            "max_height": null,
            "align_content": null,
            "visibility": null,
            "align_self": null,
            "height": null,
            "min_height": null,
            "padding": null,
            "grid_auto_rows": null,
            "grid_gap": null,
            "max_width": null,
            "order": null,
            "_view_module_version": "1.2.0",
            "grid_template_areas": null,
            "object_position": null,
            "object_fit": null,
            "grid_auto_columns": null,
            "margin": null,
            "display": null,
            "left": null
          }
        },
        "32017296839a4b48a97da22186fad530": {
          "model_module": "@jupyter-widgets/controls",
          "model_name": "ProgressStyleModel",
          "model_module_version": "1.5.0",
          "state": {
            "_view_name": "StyleView",
            "_model_name": "ProgressStyleModel",
            "description_width": "",
            "_view_module": "@jupyter-widgets/base",
            "_model_module_version": "1.5.0",
            "_view_count": null,
            "_view_module_version": "1.2.0",
            "bar_color": null,
            "_model_module": "@jupyter-widgets/controls"
          }
        },
        "413bb060e27c479e9702f2490bda285a": {
          "model_module": "@jupyter-widgets/base",
          "model_name": "LayoutModel",
          "model_module_version": "1.2.0",
          "state": {
            "_view_name": "LayoutView",
            "grid_template_rows": null,
            "right": null,
            "justify_content": null,
            "_view_module": "@jupyter-widgets/base",
            "overflow": null,
            "_model_module_version": "1.2.0",
            "_view_count": null,
            "flex_flow": null,
            "width": null,
            "min_width": null,
            "border": null,
            "align_items": null,
            "bottom": null,
            "_model_module": "@jupyter-widgets/base",
            "top": null,
            "grid_column": null,
            "overflow_y": null,
            "overflow_x": null,
            "grid_auto_flow": null,
            "grid_area": null,
            "grid_template_columns": null,
            "flex": null,
            "_model_name": "LayoutModel",
            "justify_items": null,
            "grid_row": null,
            "max_height": null,
            "align_content": null,
            "visibility": null,
            "align_self": null,
            "height": null,
            "min_height": null,
            "padding": null,
            "grid_auto_rows": null,
            "grid_gap": null,
            "max_width": null,
            "order": null,
            "_view_module_version": "1.2.0",
            "grid_template_areas": null,
            "object_position": null,
            "object_fit": null,
            "grid_auto_columns": null,
            "margin": null,
            "display": null,
            "left": null
          }
        },
        "830607f2ffca4cbe9ce96f1ee2a5dc19": {
          "model_module": "@jupyter-widgets/controls",
          "model_name": "DescriptionStyleModel",
          "model_module_version": "1.5.0",
          "state": {
            "_view_name": "StyleView",
            "_model_name": "DescriptionStyleModel",
            "description_width": "",
            "_view_module": "@jupyter-widgets/base",
            "_model_module_version": "1.5.0",
            "_view_count": null,
            "_view_module_version": "1.2.0",
            "_model_module": "@jupyter-widgets/controls"
          }
        },
        "3058c794407f4ff28c2f559627a4941e": {
          "model_module": "@jupyter-widgets/base",
          "model_name": "LayoutModel",
          "model_module_version": "1.2.0",
          "state": {
            "_view_name": "LayoutView",
            "grid_template_rows": null,
            "right": null,
            "justify_content": null,
            "_view_module": "@jupyter-widgets/base",
            "overflow": null,
            "_model_module_version": "1.2.0",
            "_view_count": null,
            "flex_flow": null,
            "width": null,
            "min_width": null,
            "border": null,
            "align_items": null,
            "bottom": null,
            "_model_module": "@jupyter-widgets/base",
            "top": null,
            "grid_column": null,
            "overflow_y": null,
            "overflow_x": null,
            "grid_auto_flow": null,
            "grid_area": null,
            "grid_template_columns": null,
            "flex": null,
            "_model_name": "LayoutModel",
            "justify_items": null,
            "grid_row": null,
            "max_height": null,
            "align_content": null,
            "visibility": null,
            "align_self": null,
            "height": null,
            "min_height": null,
            "padding": null,
            "grid_auto_rows": null,
            "grid_gap": null,
            "max_width": null,
            "order": null,
            "_view_module_version": "1.2.0",
            "grid_template_areas": null,
            "object_position": null,
            "object_fit": null,
            "grid_auto_columns": null,
            "margin": null,
            "display": null,
            "left": null
          }
        }
      }
    }
  },
  "cells": [
    {
      "cell_type": "code",
      "execution_count": 1,
      "metadata": {
        "id": "vuJa6yqg956P"
      },
      "outputs": [],
      "source": [
        "import tensorflow as tf"
      ]
    },
    {
      "cell_type": "code",
      "source": [
        "print(tf.__version__)"
      ],
      "metadata": {
        "colab": {
          "base_uri": "https://localhost:8080/"
        },
        "id": "JZP0c0pQ-LjW",
        "outputId": "882cd7db-4f81-4b2c-fe0e-b9f2d0514e0e"
      },
      "execution_count": 2,
      "outputs": [
        {
          "output_type": "stream",
          "name": "stdout",
          "text": [
            "2.7.0\n"
          ]
        }
      ]
    },
    {
      "cell_type": "code",
      "source": [
        "import tensorflow_datasets as tfds"
      ],
      "metadata": {
        "id": "CauYI7IH-Xj1"
      },
      "execution_count": 3,
      "outputs": []
    },
    {
      "cell_type": "code",
      "source": [
        "tfds.list_builders()"
      ],
      "metadata": {
        "colab": {
          "base_uri": "https://localhost:8080/"
        },
        "id": "e_dCQNkm-XmU",
        "outputId": "6012c45f-ad73-44cd-fa0c-eb3df52dd083"
      },
      "execution_count": 4,
      "outputs": [
        {
          "output_type": "execute_result",
          "data": {
            "text/plain": [
              "['abstract_reasoning',\n",
              " 'accentdb',\n",
              " 'aeslc',\n",
              " 'aflw2k3d',\n",
              " 'ag_news_subset',\n",
              " 'ai2_arc',\n",
              " 'ai2_arc_with_ir',\n",
              " 'amazon_us_reviews',\n",
              " 'anli',\n",
              " 'arc',\n",
              " 'bair_robot_pushing_small',\n",
              " 'bccd',\n",
              " 'beans',\n",
              " 'big_patent',\n",
              " 'bigearthnet',\n",
              " 'billsum',\n",
              " 'binarized_mnist',\n",
              " 'binary_alpha_digits',\n",
              " 'blimp',\n",
              " 'bool_q',\n",
              " 'c4',\n",
              " 'caltech101',\n",
              " 'caltech_birds2010',\n",
              " 'caltech_birds2011',\n",
              " 'cars196',\n",
              " 'cassava',\n",
              " 'cats_vs_dogs',\n",
              " 'celeb_a',\n",
              " 'celeb_a_hq',\n",
              " 'cfq',\n",
              " 'chexpert',\n",
              " 'cifar10',\n",
              " 'cifar100',\n",
              " 'cifar10_1',\n",
              " 'cifar10_corrupted',\n",
              " 'citrus_leaves',\n",
              " 'cityscapes',\n",
              " 'civil_comments',\n",
              " 'clevr',\n",
              " 'clic',\n",
              " 'clinc_oos',\n",
              " 'cmaterdb',\n",
              " 'cnn_dailymail',\n",
              " 'coco',\n",
              " 'coco_captions',\n",
              " 'coil100',\n",
              " 'colorectal_histology',\n",
              " 'colorectal_histology_large',\n",
              " 'common_voice',\n",
              " 'coqa',\n",
              " 'cos_e',\n",
              " 'cosmos_qa',\n",
              " 'covid19sum',\n",
              " 'crema_d',\n",
              " 'curated_breast_imaging_ddsm',\n",
              " 'cycle_gan',\n",
              " 'deep_weeds',\n",
              " 'definite_pronoun_resolution',\n",
              " 'dementiabank',\n",
              " 'diabetic_retinopathy_detection',\n",
              " 'div2k',\n",
              " 'dmlab',\n",
              " 'downsampled_imagenet',\n",
              " 'dsprites',\n",
              " 'dtd',\n",
              " 'duke_ultrasound',\n",
              " 'emnist',\n",
              " 'eraser_multi_rc',\n",
              " 'esnli',\n",
              " 'eurosat',\n",
              " 'fashion_mnist',\n",
              " 'flic',\n",
              " 'flores',\n",
              " 'food101',\n",
              " 'forest_fires',\n",
              " 'fuss',\n",
              " 'gap',\n",
              " 'geirhos_conflict_stimuli',\n",
              " 'genomics_ood',\n",
              " 'german_credit_numeric',\n",
              " 'gigaword',\n",
              " 'glue',\n",
              " 'goemotions',\n",
              " 'gpt3',\n",
              " 'groove',\n",
              " 'gtzan',\n",
              " 'gtzan_music_speech',\n",
              " 'hellaswag',\n",
              " 'higgs',\n",
              " 'horses_or_humans',\n",
              " 'i_naturalist2017',\n",
              " 'imagenet2012',\n",
              " 'imagenet2012_corrupted',\n",
              " 'imagenet2012_real',\n",
              " 'imagenet2012_subset',\n",
              " 'imagenet_a',\n",
              " 'imagenet_r',\n",
              " 'imagenet_resized',\n",
              " 'imagenet_v2',\n",
              " 'imagenette',\n",
              " 'imagewang',\n",
              " 'imdb_reviews',\n",
              " 'irc_disentanglement',\n",
              " 'iris',\n",
              " 'kitti',\n",
              " 'kmnist',\n",
              " 'lfw',\n",
              " 'librispeech',\n",
              " 'librispeech_lm',\n",
              " 'libritts',\n",
              " 'ljspeech',\n",
              " 'lm1b',\n",
              " 'lost_and_found',\n",
              " 'lsun',\n",
              " 'malaria',\n",
              " 'math_dataset',\n",
              " 'mctaco',\n",
              " 'mnist',\n",
              " 'mnist_corrupted',\n",
              " 'movie_lens',\n",
              " 'movie_rationales',\n",
              " 'movielens',\n",
              " 'moving_mnist',\n",
              " 'multi_news',\n",
              " 'multi_nli',\n",
              " 'multi_nli_mismatch',\n",
              " 'natural_questions',\n",
              " 'natural_questions_open',\n",
              " 'newsroom',\n",
              " 'nsynth',\n",
              " 'nyu_depth_v2',\n",
              " 'omniglot',\n",
              " 'open_images_challenge2019_detection',\n",
              " 'open_images_v4',\n",
              " 'openbookqa',\n",
              " 'opinion_abstracts',\n",
              " 'opinosis',\n",
              " 'opus',\n",
              " 'oxford_flowers102',\n",
              " 'oxford_iiit_pet',\n",
              " 'para_crawl',\n",
              " 'patch_camelyon',\n",
              " 'paws_wiki',\n",
              " 'paws_x_wiki',\n",
              " 'pet_finder',\n",
              " 'pg19',\n",
              " 'places365_small',\n",
              " 'plant_leaves',\n",
              " 'plant_village',\n",
              " 'plantae_k',\n",
              " 'qa4mre',\n",
              " 'qasc',\n",
              " 'quickdraw_bitmap',\n",
              " 'radon',\n",
              " 'reddit',\n",
              " 'reddit_disentanglement',\n",
              " 'reddit_tifu',\n",
              " 'resisc45',\n",
              " 'robonet',\n",
              " 'rock_paper_scissors',\n",
              " 'rock_you',\n",
              " 'salient_span_wikipedia',\n",
              " 'samsum',\n",
              " 'savee',\n",
              " 'scan',\n",
              " 'scene_parse150',\n",
              " 'scicite',\n",
              " 'scientific_papers',\n",
              " 'sentiment140',\n",
              " 'shapes3d',\n",
              " 'smallnorb',\n",
              " 'snli',\n",
              " 'so2sat',\n",
              " 'speech_commands',\n",
              " 'spoken_digit',\n",
              " 'squad',\n",
              " 'stanford_dogs',\n",
              " 'stanford_online_products',\n",
              " 'starcraft_video',\n",
              " 'stl10',\n",
              " 'sun397',\n",
              " 'super_glue',\n",
              " 'svhn_cropped',\n",
              " 'ted_hrlr_translate',\n",
              " 'ted_multi_translate',\n",
              " 'tedlium',\n",
              " 'tf_flowers',\n",
              " 'the300w_lp',\n",
              " 'tiny_shakespeare',\n",
              " 'titanic',\n",
              " 'trec',\n",
              " 'trivia_qa',\n",
              " 'tydi_qa',\n",
              " 'uc_merced',\n",
              " 'ucf101',\n",
              " 'vctk',\n",
              " 'vgg_face2',\n",
              " 'visual_domain_decathlon',\n",
              " 'voc',\n",
              " 'voxceleb',\n",
              " 'voxforge',\n",
              " 'waymo_open_dataset',\n",
              " 'web_questions',\n",
              " 'wider_face',\n",
              " 'wiki40b',\n",
              " 'wikihow',\n",
              " 'wikipedia',\n",
              " 'wikipedia_toxicity_subtypes',\n",
              " 'wine_quality',\n",
              " 'winogrande',\n",
              " 'wmt14_translate',\n",
              " 'wmt15_translate',\n",
              " 'wmt16_translate',\n",
              " 'wmt17_translate',\n",
              " 'wmt18_translate',\n",
              " 'wmt19_translate',\n",
              " 'wmt_t2t_translate',\n",
              " 'wmt_translate',\n",
              " 'wordnet',\n",
              " 'xnli',\n",
              " 'xquad',\n",
              " 'xsum',\n",
              " 'yelp_polarity_reviews',\n",
              " 'yes_no']"
            ]
          },
          "metadata": {},
          "execution_count": 4
        }
      ]
    },
    {
      "cell_type": "code",
      "source": [
        "import numpy as np\n",
        "import matplotlib.pyplot as plt\n",
        "import math"
      ],
      "metadata": {
        "id": "n721XGeR-Xo5"
      },
      "execution_count": 5,
      "outputs": []
    },
    {
      "cell_type": "markdown",
      "source": [
        "Batch size kendimiz ayarlamak için girmedik."
      ],
      "metadata": {
        "id": "aMxqC_XdAFfS"
      }
    },
    {
      "cell_type": "code",
      "source": [
        "mnist_training, mnist_test = tfds.load('mnist', split = ['train','test'],batch_size=-1, as_supervised= True)\n"
      ],
      "metadata": {
        "colab": {
          "base_uri": "https://localhost:8080/",
          "height": 312,
          "referenced_widgets": [
            "a1bf64b73433421ca6eb28aa9c38dbd9",
            "ab8aeff5c9154334bde63620e6632c6e",
            "6cef78dca6224e2a840ccbcab83b3bbe",
            "c0c562388f4d4433b5159bfd82eca0f8",
            "60c7744fab4f491bb3caa98137fdaece",
            "1087efd2929949919c784c10f78821e6",
            "3afb9e107c4f45f9b88a54593781162f",
            "32017296839a4b48a97da22186fad530",
            "413bb060e27c479e9702f2490bda285a",
            "830607f2ffca4cbe9ce96f1ee2a5dc19",
            "3058c794407f4ff28c2f559627a4941e"
          ]
        },
        "id": "stI8CpLR-XrU",
        "outputId": "51b37d83-5332-4a83-b716-b593a6b06d12"
      },
      "execution_count": 6,
      "outputs": [
        {
          "output_type": "stream",
          "name": "stdout",
          "text": [
            "\u001b[1mDownloading and preparing dataset mnist/3.0.1 (download: 11.06 MiB, generated: 21.00 MiB, total: 32.06 MiB) to /root/tensorflow_datasets/mnist/3.0.1...\u001b[0m\n"
          ]
        },
        {
          "output_type": "stream",
          "name": "stderr",
          "text": [
            "WARNING:absl:Dataset mnist is hosted on GCS. It will automatically be downloaded to your\n",
            "local data directory. If you'd instead prefer to read directly from our public\n",
            "GCS bucket (recommended if you're running on GCP), you can instead pass\n",
            "`try_gcs=True` to `tfds.load` or set `data_dir=gs://tfds-data/datasets`.\n",
            "\n"
          ]
        },
        {
          "output_type": "display_data",
          "data": {
            "application/vnd.jupyter.widget-view+json": {
              "model_id": "a1bf64b73433421ca6eb28aa9c38dbd9",
              "version_minor": 0,
              "version_major": 2
            },
            "text/plain": [
              "Dl Completed...:   0%|          | 0/4 [00:00<?, ? file/s]"
            ]
          },
          "metadata": {}
        },
        {
          "output_type": "stream",
          "name": "stdout",
          "text": [
            "\n",
            "\u001b[1mDataset mnist downloaded and prepared to /root/tensorflow_datasets/mnist/3.0.1. Subsequent calls will reuse this data.\u001b[0m\n",
            "WARNING:tensorflow:From /usr/local/lib/python3.7/dist-packages/tensorflow_datasets/core/dataset_builder.py:598: get_single_element (from tensorflow.python.data.experimental.ops.get_single_element) is deprecated and will be removed in a future version.\n",
            "Instructions for updating:\n",
            "Use `tf.data.Dataset.get_single_element()`.\n"
          ]
        },
        {
          "output_type": "stream",
          "name": "stderr",
          "text": [
            "WARNING:tensorflow:From /usr/local/lib/python3.7/dist-packages/tensorflow_datasets/core/dataset_builder.py:598: get_single_element (from tensorflow.python.data.experimental.ops.get_single_element) is deprecated and will be removed in a future version.\n",
            "Instructions for updating:\n",
            "Use `tf.data.Dataset.get_single_element()`.\n"
          ]
        }
      ]
    },
    {
      "cell_type": "markdown",
      "source": [
        "60000 tane 28 x 28 siyah beyaz . "
      ],
      "metadata": {
        "id": "UmzngTNDAVAj"
      }
    },
    {
      "cell_type": "code",
      "source": [
        "print(mnist_training)"
      ],
      "metadata": {
        "id": "ZH9RvkB1__Gc",
        "colab": {
          "base_uri": "https://localhost:8080/"
        },
        "outputId": "e5d0a817-840f-4f50-85a0-0df7c630941c"
      },
      "execution_count": 7,
      "outputs": [
        {
          "output_type": "stream",
          "name": "stdout",
          "text": [
            "(<tf.Tensor: shape=(60000, 28, 28, 1), dtype=uint8, numpy=\n",
            "array([[[[0],\n",
            "         [0],\n",
            "         [0],\n",
            "         ...,\n",
            "         [0],\n",
            "         [0],\n",
            "         [0]],\n",
            "\n",
            "        [[0],\n",
            "         [0],\n",
            "         [0],\n",
            "         ...,\n",
            "         [0],\n",
            "         [0],\n",
            "         [0]],\n",
            "\n",
            "        [[0],\n",
            "         [0],\n",
            "         [0],\n",
            "         ...,\n",
            "         [0],\n",
            "         [0],\n",
            "         [0]],\n",
            "\n",
            "        ...,\n",
            "\n",
            "        [[0],\n",
            "         [0],\n",
            "         [0],\n",
            "         ...,\n",
            "         [0],\n",
            "         [0],\n",
            "         [0]],\n",
            "\n",
            "        [[0],\n",
            "         [0],\n",
            "         [0],\n",
            "         ...,\n",
            "         [0],\n",
            "         [0],\n",
            "         [0]],\n",
            "\n",
            "        [[0],\n",
            "         [0],\n",
            "         [0],\n",
            "         ...,\n",
            "         [0],\n",
            "         [0],\n",
            "         [0]]],\n",
            "\n",
            "\n",
            "       [[[0],\n",
            "         [0],\n",
            "         [0],\n",
            "         ...,\n",
            "         [0],\n",
            "         [0],\n",
            "         [0]],\n",
            "\n",
            "        [[0],\n",
            "         [0],\n",
            "         [0],\n",
            "         ...,\n",
            "         [0],\n",
            "         [0],\n",
            "         [0]],\n",
            "\n",
            "        [[0],\n",
            "         [0],\n",
            "         [0],\n",
            "         ...,\n",
            "         [0],\n",
            "         [0],\n",
            "         [0]],\n",
            "\n",
            "        ...,\n",
            "\n",
            "        [[0],\n",
            "         [0],\n",
            "         [0],\n",
            "         ...,\n",
            "         [0],\n",
            "         [0],\n",
            "         [0]],\n",
            "\n",
            "        [[0],\n",
            "         [0],\n",
            "         [0],\n",
            "         ...,\n",
            "         [0],\n",
            "         [0],\n",
            "         [0]],\n",
            "\n",
            "        [[0],\n",
            "         [0],\n",
            "         [0],\n",
            "         ...,\n",
            "         [0],\n",
            "         [0],\n",
            "         [0]]],\n",
            "\n",
            "\n",
            "       [[[0],\n",
            "         [0],\n",
            "         [0],\n",
            "         ...,\n",
            "         [0],\n",
            "         [0],\n",
            "         [0]],\n",
            "\n",
            "        [[0],\n",
            "         [0],\n",
            "         [0],\n",
            "         ...,\n",
            "         [0],\n",
            "         [0],\n",
            "         [0]],\n",
            "\n",
            "        [[0],\n",
            "         [0],\n",
            "         [0],\n",
            "         ...,\n",
            "         [0],\n",
            "         [0],\n",
            "         [0]],\n",
            "\n",
            "        ...,\n",
            "\n",
            "        [[0],\n",
            "         [0],\n",
            "         [0],\n",
            "         ...,\n",
            "         [0],\n",
            "         [0],\n",
            "         [0]],\n",
            "\n",
            "        [[0],\n",
            "         [0],\n",
            "         [0],\n",
            "         ...,\n",
            "         [0],\n",
            "         [0],\n",
            "         [0]],\n",
            "\n",
            "        [[0],\n",
            "         [0],\n",
            "         [0],\n",
            "         ...,\n",
            "         [0],\n",
            "         [0],\n",
            "         [0]]],\n",
            "\n",
            "\n",
            "       ...,\n",
            "\n",
            "\n",
            "       [[[0],\n",
            "         [0],\n",
            "         [0],\n",
            "         ...,\n",
            "         [0],\n",
            "         [0],\n",
            "         [0]],\n",
            "\n",
            "        [[0],\n",
            "         [0],\n",
            "         [0],\n",
            "         ...,\n",
            "         [0],\n",
            "         [0],\n",
            "         [0]],\n",
            "\n",
            "        [[0],\n",
            "         [0],\n",
            "         [0],\n",
            "         ...,\n",
            "         [0],\n",
            "         [0],\n",
            "         [0]],\n",
            "\n",
            "        ...,\n",
            "\n",
            "        [[0],\n",
            "         [0],\n",
            "         [0],\n",
            "         ...,\n",
            "         [0],\n",
            "         [0],\n",
            "         [0]],\n",
            "\n",
            "        [[0],\n",
            "         [0],\n",
            "         [0],\n",
            "         ...,\n",
            "         [0],\n",
            "         [0],\n",
            "         [0]],\n",
            "\n",
            "        [[0],\n",
            "         [0],\n",
            "         [0],\n",
            "         ...,\n",
            "         [0],\n",
            "         [0],\n",
            "         [0]]],\n",
            "\n",
            "\n",
            "       [[[0],\n",
            "         [0],\n",
            "         [0],\n",
            "         ...,\n",
            "         [0],\n",
            "         [0],\n",
            "         [0]],\n",
            "\n",
            "        [[0],\n",
            "         [0],\n",
            "         [0],\n",
            "         ...,\n",
            "         [0],\n",
            "         [0],\n",
            "         [0]],\n",
            "\n",
            "        [[0],\n",
            "         [0],\n",
            "         [0],\n",
            "         ...,\n",
            "         [0],\n",
            "         [0],\n",
            "         [0]],\n",
            "\n",
            "        ...,\n",
            "\n",
            "        [[0],\n",
            "         [0],\n",
            "         [0],\n",
            "         ...,\n",
            "         [0],\n",
            "         [0],\n",
            "         [0]],\n",
            "\n",
            "        [[0],\n",
            "         [0],\n",
            "         [0],\n",
            "         ...,\n",
            "         [0],\n",
            "         [0],\n",
            "         [0]],\n",
            "\n",
            "        [[0],\n",
            "         [0],\n",
            "         [0],\n",
            "         ...,\n",
            "         [0],\n",
            "         [0],\n",
            "         [0]]],\n",
            "\n",
            "\n",
            "       [[[0],\n",
            "         [0],\n",
            "         [0],\n",
            "         ...,\n",
            "         [0],\n",
            "         [0],\n",
            "         [0]],\n",
            "\n",
            "        [[0],\n",
            "         [0],\n",
            "         [0],\n",
            "         ...,\n",
            "         [0],\n",
            "         [0],\n",
            "         [0]],\n",
            "\n",
            "        [[0],\n",
            "         [0],\n",
            "         [0],\n",
            "         ...,\n",
            "         [0],\n",
            "         [0],\n",
            "         [0]],\n",
            "\n",
            "        ...,\n",
            "\n",
            "        [[0],\n",
            "         [0],\n",
            "         [0],\n",
            "         ...,\n",
            "         [0],\n",
            "         [0],\n",
            "         [0]],\n",
            "\n",
            "        [[0],\n",
            "         [0],\n",
            "         [0],\n",
            "         ...,\n",
            "         [0],\n",
            "         [0],\n",
            "         [0]],\n",
            "\n",
            "        [[0],\n",
            "         [0],\n",
            "         [0],\n",
            "         ...,\n",
            "         [0],\n",
            "         [0],\n",
            "         [0]]]], dtype=uint8)>, <tf.Tensor: shape=(60000,), dtype=int64, numpy=array([4, 1, 0, ..., 6, 1, 5])>)\n"
          ]
        }
      ]
    },
    {
      "cell_type": "markdown",
      "source": [
        "Training labellar ve exampleları ayırıyoruz.\n"
      ],
      "metadata": {
        "id": "lpoYFQunA4UK"
      }
    },
    {
      "cell_type": "code",
      "source": [
        "mnist_training_images, mnist_training_labels = mnist_training[0], mnist_training[1]\n",
        "mnist_test_images, mnist_test_labels = mnist_test[0], mnist_test[1] "
      ],
      "metadata": {
        "id": "B2a30FF0AM-j"
      },
      "execution_count": 8,
      "outputs": []
    },
    {
      "cell_type": "code",
      "source": [
        "print(mnist_training_images.shape)\n",
        "print(mnist_training_labels.shape)"
      ],
      "metadata": {
        "colab": {
          "base_uri": "https://localhost:8080/"
        },
        "id": "yDLB7MkVANBf",
        "outputId": "821e7847-fbcd-4701-fbd3-bc45a89b6a8a"
      },
      "execution_count": 9,
      "outputs": [
        {
          "output_type": "stream",
          "name": "stdout",
          "text": [
            "(60000, 28, 28, 1)\n",
            "(60000,)\n"
          ]
        }
      ]
    },
    {
      "cell_type": "code",
      "source": [
        ""
      ],
      "metadata": {
        "id": "uN6ZXnUrANDd"
      },
      "execution_count": 9,
      "outputs": []
    },
    {
      "cell_type": "code",
      "source": [
        "plt.imshow(mnist_training_images[0][:, :, 0], cmap='gray')"
      ],
      "metadata": {
        "colab": {
          "base_uri": "https://localhost:8080/",
          "height": 282
        },
        "id": "QXGPop63ANF0",
        "outputId": "00d61cb8-1456-42b5-e290-55c60a0abebc"
      },
      "execution_count": 10,
      "outputs": [
        {
          "output_type": "execute_result",
          "data": {
            "text/plain": [
              "<matplotlib.image.AxesImage at 0x7f05e24c8490>"
            ]
          },
          "metadata": {},
          "execution_count": 10
        },
        {
          "output_type": "display_data",
          "data": {
            "image/png": "[encoded data removed]",
            "text/plain": [
              "<Figure size 432x288 with 1 Axes>"
            ]
          },
          "metadata": {
            "needs_background": "light"
          }
        }
      ]
    },
    {
      "cell_type": "code",
      "source": [
        "num_training_images = mnist_training_images.shape[0]\n",
        "num_test_images = mnist_test_images.shape[0]\n",
        "\n",
        "img_width, img_height = mnist_training_images.shape[1], mnist_training_images.shape[2]"
      ],
      "metadata": {
        "id": "rWv-x8vjANIT"
      },
      "execution_count": 11,
      "outputs": []
    },
    {
      "cell_type": "markdown",
      "source": [
        "Full connectedd network hazırladığımız için . 784 x  1 olan vektöre çevirdik"
      ],
      "metadata": {
        "id": "9J_y2CdbD0Zp"
      }
    },
    {
      "cell_type": "code",
      "source": [
        "mnist_training_images = tf.reshape(mnist_training_images, shape=(num_training_images, img_width * img_height))\n",
        "mnist_test_images = tf.reshape(mnist_test_images, shape=(num_test_images, img_width * img_height))"
      ],
      "metadata": {
        "id": "vbBS9CIGDZh-"
      },
      "execution_count": 12,
      "outputs": []
    },
    {
      "cell_type": "code",
      "source": [
        "print(mnist_training_images.shape)\n",
        "print(mnist_test_images.shape)"
      ],
      "metadata": {
        "colab": {
          "base_uri": "https://localhost:8080/"
        },
        "id": "DXAxXa3sEEdw",
        "outputId": "8f06da0d-6a59-466f-c81a-06f45a74db66"
      },
      "execution_count": 13,
      "outputs": [
        {
          "output_type": "stream",
          "name": "stdout",
          "text": [
            "(60000, 784)\n",
            "(10000, 784)\n"
          ]
        }
      ]
    },
    {
      "cell_type": "markdown",
      "source": [
        "vektor min max"
      ],
      "metadata": {
        "id": "NGexOpxsE1Y2"
      }
    },
    {
      "cell_type": "code",
      "source": [
        "print(np.amax(mnist_training_images[0]),np.amin(mnist_training_images[0]))\n",
        "print(np.amax(mnist_test_images[0]),np.amin(mnist_test_images[0]))\n",
        "\n",
        "print(np.amax(mnist_training_labels),np.amin(mnist_training_labels))\n",
        "print(np.amax(mnist_test_labels),np.amin(mnist_test_labels))"
      ],
      "metadata": {
        "colab": {
          "base_uri": "https://localhost:8080/"
        },
        "id": "EaEM6zz2EEgX",
        "outputId": "7693f92b-8f70-41b9-fb03-7a01a7439684"
      },
      "execution_count": 14,
      "outputs": [
        {
          "output_type": "stream",
          "name": "stdout",
          "text": [
            "255 0\n",
            "255 0\n",
            "9 0\n",
            "9 0\n"
          ]
        }
      ]
    },
    {
      "cell_type": "markdown",
      "source": [
        "normalize ediyoruz"
      ],
      "metadata": {
        "id": "PPOo-uEPFnwn"
      }
    },
    {
      "cell_type": "code",
      "source": [
        "def preprocess(x, y):\n",
        "    x = tf.cast(x, tf.float32) / 255.0\n",
        "    y = tf.cast(y, tf.int64)\n",
        "\n",
        "    return x, y"
      ],
      "metadata": {
        "id": "YXT0WtuVEEjM"
      },
      "execution_count": 15,
      "outputs": []
    },
    {
      "cell_type": "markdown",
      "source": [
        "dataseti hazırladık. karıştırdık batch 128 aldık."
      ],
      "metadata": {
        "id": "23pdJYUEFzgD"
      }
    },
    {
      "cell_type": "code",
      "source": [
        "def create_dataset(xs, ys, n_classes=10):\n",
        "    ys = tf.one_hot(ys, depth=n_classes)\n",
        "    \n",
        "    return tf.data.Dataset.from_tensor_slices((xs, ys)).map(preprocess).shuffle(len(ys)).batch(128)"
      ],
      "metadata": {
        "id": "49Ocr60jFqxl"
      },
      "execution_count": 16,
      "outputs": []
    },
    {
      "cell_type": "code",
      "source": [
        "train_dataset = create_dataset(mnist_training_images, mnist_training_labels)\n",
        "test_dataset = create_dataset(mnist_test_images, mnist_test_labels)"
      ],
      "metadata": {
        "id": "PaFp552PGUSr"
      },
      "execution_count": 17,
      "outputs": []
    },
    {
      "cell_type": "code",
      "source": [
        "print(train_dataset)\n"
      ],
      "metadata": {
        "colab": {
          "base_uri": "https://localhost:8080/"
        },
        "id": "dC95K-98GVAL",
        "outputId": "fa3481f1-4cb5-4456-939e-3447f8e8aa6c"
      },
      "execution_count": 18,
      "outputs": [
        {
          "output_type": "stream",
          "name": "stdout",
          "text": [
            "<BatchDataset shapes: ((None, 784), (None, 10)), types: (tf.float32, tf.int64)>\n"
          ]
        }
      ]
    },
    {
      "cell_type": "markdown",
      "source": [
        "batchleri kontrol ettik"
      ],
      "metadata": {
        "id": "wjQlO6w5HdyR"
      }
    },
    {
      "cell_type": "code",
      "source": [
        "batch_images, batch_labels = next(iter(train_dataset))\n",
        "print(batch_images.shape)\n",
        "print(batch_labels.shape)\n",
        "\n",
        "print(batch_images[0])\n",
        "print(batch_labels[0])\n"
      ],
      "metadata": {
        "id": "yNvzN9r3GVCz",
        "colab": {
          "base_uri": "https://localhost:8080/"
        },
        "outputId": "8ddeff27-2273-4f65-f288-fa976837cfe0"
      },
      "execution_count": 19,
      "outputs": [
        {
          "output_type": "stream",
          "name": "stdout",
          "text": [
            "(128, 784)\n",
            "(128, 10)\n",
            "tf.Tensor(\n",
            "[0.         0.         0.         0.         0.         0.\n",
            " 0.         0.         0.         0.         0.         0.\n",
            " 0.         0.         0.         0.         0.         0.\n",
            " 0.         0.         0.         0.         0.         0.\n",
            " 0.         0.         0.         0.         0.         0.\n",
            " 0.         0.         0.         0.         0.         0.\n",
            " 0.         0.         0.         0.         0.         0.\n",
            " 0.         0.         0.         0.         0.         0.\n",
            " 0.         0.         0.         0.         0.         0.\n",
            " 0.         0.         0.         0.         0.         0.\n",
            " 0.         0.         0.         0.         0.         0.\n",
            " 0.         0.         0.         0.         0.         0.\n",
            " 0.         0.         0.         0.         0.         0.\n",
            " 0.         0.         0.         0.         0.         0.\n",
            " 0.         0.         0.         0.         0.         0.\n",
            " 0.         0.         0.         0.         0.         0.\n",
            " 0.         0.         0.         0.         0.10980392 0.6117647\n",
            " 0.93333334 0.14117648 0.         0.         0.         0.\n",
            " 0.         0.         0.         0.         0.         0.\n",
            " 0.         0.         0.         0.         0.         0.\n",
            " 0.         0.         0.         0.         0.         0.\n",
            " 0.         0.01960784 0.64705884 0.99215686 0.99215686 0.54901963\n",
            " 0.         0.         0.         0.         0.         0.\n",
            " 0.         0.         0.         0.         0.         0.\n",
            " 0.         0.         0.         0.         0.         0.\n",
            " 0.         0.         0.         0.         0.         0.6117647\n",
            " 0.99215686 0.99215686 0.9411765  0.42352942 0.         0.\n",
            " 0.         0.         0.         0.         0.         0.\n",
            " 0.         0.         0.         0.         0.         0.\n",
            " 0.         0.         0.         0.         0.         0.\n",
            " 0.         0.         0.56078434 0.99607843 0.99215686 0.9411765\n",
            " 0.56078434 0.         0.         0.         0.         0.\n",
            " 0.         0.         0.         0.         0.         0.\n",
            " 0.         0.         0.         0.         0.         0.\n",
            " 0.         0.         0.         0.         0.         0.12156863\n",
            " 0.9372549  0.99607843 0.99215686 0.5372549  0.         0.\n",
            " 0.         0.         0.         0.         0.         0.\n",
            " 0.         0.         0.         0.         0.         0.\n",
            " 0.         0.         0.         0.         0.         0.\n",
            " 0.         0.         0.         0.92156863 0.99607843 1.\n",
            " 0.827451   0.         0.         0.         0.         0.\n",
            " 0.         0.         0.         0.         0.         0.\n",
            " 0.         0.         0.         0.         0.         0.\n",
            " 0.         0.         0.         0.         0.         0.00784314\n",
            " 0.4627451  0.98039216 0.99215686 0.94509804 0.9098039  0.40784314\n",
            " 0.         0.         0.         0.         0.         0.\n",
            " 0.         0.         0.         0.         0.         0.\n",
            " 0.         0.         0.         0.         0.         0.\n",
            " 0.         0.         0.         0.19607843 0.99215686 0.99215686\n",
            " 0.99215686 0.26666668 0.5529412  0.09411765 0.         0.\n",
            " 0.         0.         0.         0.         0.         0.\n",
            " 0.         0.         0.         0.         0.         0.\n",
            " 0.         0.         0.         0.         0.         0.\n",
            " 0.1254902  0.89411765 0.99215686 0.99215686 0.43137255 0.\n",
            " 0.         0.         0.         0.         0.         0.\n",
            " 0.         0.         0.         0.         0.         0.\n",
            " 0.         0.         0.         0.         0.         0.\n",
            " 0.         0.         0.         0.         0.38039216 0.99215686\n",
            " 0.99215686 0.87058824 0.05490196 0.         0.         0.\n",
            " 0.         0.         0.         0.         0.         0.\n",
            " 0.         0.         0.         0.         0.         0.\n",
            " 0.         0.         0.         0.         0.         0.\n",
            " 0.         0.09019608 1.         0.99607843 0.99607843 0.22352941\n",
            " 0.         0.         0.19607843 0.23137255 0.01960784 0.\n",
            " 0.         0.         0.         0.         0.         0.\n",
            " 0.         0.         0.         0.         0.         0.\n",
            " 0.         0.         0.         0.         0.         0.41568628\n",
            " 0.99607843 0.99215686 0.99215686 0.08627451 0.22745098 0.84313726\n",
            " 0.96862745 0.99215686 0.7921569  0.4627451  0.0627451  0.\n",
            " 0.         0.         0.         0.         0.         0.\n",
            " 0.         0.         0.         0.         0.         0.\n",
            " 0.         0.         0.10980392 0.92156863 0.99607843 0.99215686\n",
            " 0.87058824 0.6117647  0.99215686 0.99607843 0.99215686 0.99215686\n",
            " 0.99215686 0.99215686 0.9254902  0.10588235 0.         0.\n",
            " 0.         0.         0.         0.         0.         0.\n",
            " 0.         0.         0.         0.         0.         0.\n",
            " 0.07058824 0.8666667  0.99607843 0.99215686 0.5019608  0.89411765\n",
            " 0.99215686 0.99607843 0.91764706 0.8352941  0.98039216 0.99215686\n",
            " 0.99607843 0.15294118 0.         0.         0.         0.\n",
            " 0.         0.         0.         0.         0.         0.\n",
            " 0.         0.         0.         0.         0.0627451  0.8509804\n",
            " 0.99607843 0.92941177 0.30588236 0.972549   0.99215686 0.75686276\n",
            " 0.18039216 0.         0.91764706 0.99215686 0.99607843 0.15294118\n",
            " 0.         0.         0.         0.         0.         0.\n",
            " 0.         0.         0.         0.         0.         0.\n",
            " 0.         0.         0.15686275 0.99607843 1.         0.9647059\n",
            " 0.8784314  0.99607843 0.99607843 0.5254902  0.40784314 0.7294118\n",
            " 0.99607843 0.99607843 0.5882353  0.         0.         0.\n",
            " 0.         0.         0.         0.         0.         0.\n",
            " 0.         0.         0.         0.         0.         0.\n",
            " 0.08235294 0.8862745  0.99607843 0.99215686 0.99215686 0.99215686\n",
            " 0.99215686 0.99607843 0.99215686 0.99215686 0.98039216 0.61960787\n",
            " 0.         0.         0.         0.         0.         0.\n",
            " 0.         0.         0.         0.         0.         0.\n",
            " 0.         0.         0.         0.         0.         0.5019608\n",
            " 0.99607843 0.99215686 0.99215686 0.99215686 0.99215686 0.99607843\n",
            " 0.84705883 0.5647059  0.25882354 0.         0.         0.\n",
            " 0.         0.         0.         0.         0.         0.\n",
            " 0.         0.         0.         0.         0.         0.\n",
            " 0.         0.         0.         0.03137255 0.30980393 0.7921569\n",
            " 0.99215686 0.99215686 0.7254902  0.37254903 0.03921569 0.\n",
            " 0.         0.         0.         0.         0.         0.\n",
            " 0.         0.         0.         0.         0.         0.\n",
            " 0.         0.         0.         0.         0.         0.\n",
            " 0.         0.         0.         0.01960784 0.60784316 0.92941177\n",
            " 0.14117648 0.         0.         0.         0.         0.\n",
            " 0.         0.         0.         0.         0.         0.\n",
            " 0.         0.         0.         0.         0.         0.\n",
            " 0.         0.         0.         0.         0.         0.\n",
            " 0.         0.         0.         0.         0.         0.\n",
            " 0.         0.         0.         0.         0.         0.\n",
            " 0.         0.         0.         0.         0.         0.\n",
            " 0.         0.         0.         0.         0.         0.\n",
            " 0.         0.         0.         0.         0.         0.\n",
            " 0.         0.         0.         0.         0.         0.\n",
            " 0.         0.         0.         0.         0.         0.\n",
            " 0.         0.         0.         0.         0.         0.\n",
            " 0.         0.         0.         0.         0.         0.\n",
            " 0.         0.         0.         0.         0.         0.\n",
            " 0.         0.         0.         0.         0.         0.\n",
            " 0.         0.         0.         0.         0.         0.\n",
            " 0.         0.         0.         0.         0.         0.\n",
            " 0.         0.         0.         0.         0.         0.\n",
            " 0.         0.         0.         0.         0.         0.\n",
            " 0.         0.         0.         0.         0.         0.\n",
            " 0.         0.         0.         0.         0.         0.\n",
            " 0.         0.         0.         0.         0.         0.\n",
            " 0.         0.         0.         0.         0.         0.\n",
            " 0.         0.         0.         0.         0.         0.\n",
            " 0.         0.         0.         0.         0.         0.\n",
            " 0.         0.         0.         0.        ], shape=(784,), dtype=float32)\n",
            "tf.Tensor([0 0 0 0 0 0 1 0 0 0], shape=(10,), dtype=int64)\n"
          ]
        }
      ]
    },
    {
      "cell_type": "markdown",
      "source": [
        "Let's define the hyperparameters of the model that we are going to use. We will create a three layer neural network consisting of dense layers. The layer_neurons variable below defines the sizes of the network."
      ],
      "metadata": {
        "id": "WpzbLGQYI2LQ"
      }
    },
    {
      "cell_type": "code",
      "source": [
        "input_shape = 784\n",
        "label_shape = 10\n",
        "\n",
        "lr = 0.003\n",
        "\n",
        "layer_neurons = [\n",
        "    [input_shape, 250],\n",
        "    [250, 80],\n",
        "    [80, label_shape],\n",
        "]\n",
        "\n",
        "bias_shapes = [250, 80, label_shape]\n",
        "initializer = tf.initializers.glorot_uniform()"
      ],
      "metadata": {
        "id": "Li2oPyxbGVFY"
      },
      "execution_count": 20,
      "outputs": []
    },
    {
      "cell_type": "markdown",
      "source": [
        "dense layer ayrı tanımladık"
      ],
      "metadata": {
        "id": "pYiHfpR5I5Xc"
      }
    },
    {
      "cell_type": "code",
      "source": [
        "def dense_layer(inputs, weights, bias):\n",
        "    return tf.nn.sigmoid(tf.matmul(inputs, weights) + bias)"
      ],
      "metadata": {
        "id": "Jq_6l8wEIA1L"
      },
      "execution_count": 21,
      "outputs": []
    },
    {
      "cell_type": "markdown",
      "source": [
        "weight , bias ayarladık"
      ],
      "metadata": {
        "id": "TiyUh-16JCCC"
      }
    },
    {
      "cell_type": "code",
      "source": [
        "def get_weight(shape, name):\n",
        "    return tf.Variable(initializer(shape), name=name, trainable=True, dtype=tf.float32)\n",
        "\n",
        "def get_bias(shape, name):\n",
        "    return tf.Variable(initializer([shape]), name=name, trainable=True, dtype=tf.float32)"
      ],
      "metadata": {
        "id": "Hq1otOjFIA3r"
      },
      "execution_count": 22,
      "outputs": []
    },
    {
      "cell_type": "code",
      "source": [
        "weights = []\n",
        "bias = []\n",
        "i = 0\n",
        "for layer in layer_neurons:\n",
        "    weights.append(get_weight(layer, 'weight{}'.format(i)))\n",
        "    i+=1\n",
        "\n",
        "i = 0\n",
        "for layer in bias_shapes:\n",
        "    bias.append(get_bias(layer, 'bias{}'.format(i)))\n",
        "    i+=1"
      ],
      "metadata": {
        "id": "KmjyC2JZIA58"
      },
      "execution_count": 23,
      "outputs": []
    },
    {
      "cell_type": "markdown",
      "source": [
        "model tanımladık"
      ],
      "metadata": {
        "id": "yATagnYHJs2u"
      }
    },
    {
      "cell_type": "code",
      "source": [
        "def model(input):\n",
        "    l1 = dense_layer(input, weights[0], bias[0])\n",
        "    l2 = dense_layer(l1, weights[1], bias[1])\n",
        "    l3 = dense_layer(l2, weights[2], bias[2])\n",
        "    return l3\n",
        "    "
      ],
      "metadata": {
        "id": "8a2j9VxrJ02H"
      },
      "execution_count": 24,
      "outputs": []
    },
    {
      "cell_type": "markdown",
      "source": [
        "optimazer adam seçtik . loss func tanımladık"
      ],
      "metadata": {
        "id": "j8_oN26kKM4q"
      }
    },
    {
      "cell_type": "code",
      "source": [
        "optimizer = tf.optimizers.Adam(lr)\n",
        "\n",
        "def loss(pred, target):\n",
        "    return tf.nn.softmax_cross_entropy_with_logits(target, pred)\n"
      ],
      "metadata": {
        "id": "z2bl-sr3J047"
      },
      "execution_count": 25,
      "outputs": []
    },
    {
      "cell_type": "markdown",
      "source": [
        "We define one training step below. Note that we are using tf.GradientTape here for automatic differentiation. Therefore, we don't have to define the backward pass operations while creating the model."
      ],
      "metadata": {
        "id": "vxwwk9c8KvgR"
      }
    },
    {
      "cell_type": "code",
      "source": [
        "def train_step(model, inputs, outputs, epoch):\n",
        "    epoch_loss_avg = None\n",
        "    \n",
        "    with tf.GradientTape() as tape:\n",
        "        current_loss = loss(model(inputs), outputs)\n",
        "        grads = tape.gradient(current_loss, weights)\n",
        "        optimizer.apply_gradients(zip(grads, weights))\n",
        "    \n",
        "    epoch_loss_avg = tf.reduce_mean(current_loss)\n",
        "    \n",
        "    return epoch_loss_avg"
      ],
      "metadata": {
        "id": "4Bv9mOthKN3F"
      },
      "execution_count": 26,
      "outputs": []
    },
    {
      "cell_type": "markdown",
      "source": [
        "Training"
      ],
      "metadata": {
        "id": "BxQtez6nK8yx"
      }
    },
    {
      "cell_type": "code",
      "source": [
        "num_epochs = 10\n",
        "for epoch in range(num_epochs):\n",
        "    epoch_loss = 0\n",
        "    i = 0\n",
        "    for train_data in train_dataset:\n",
        "        batch_images, batch_labels = train_data\n",
        "        iter_loss = train_step(model, batch_images, batch_labels, epoch)\n",
        "        epoch_loss += iter_loss\n",
        "        i+=1\n",
        "    print(\"--- On epoch {} ---\".format(epoch))\n",
        "    tf.print(\"| Loss: \", epoch_loss/i)"
      ],
      "metadata": {
        "colab": {
          "base_uri": "https://localhost:8080/"
        },
        "id": "axVEf6tBK2VW",
        "outputId": "2202e562-67f8-4c6e-d5dd-2dd8b1bcf502"
      },
      "execution_count": 27,
      "outputs": [
        {
          "output_type": "stream",
          "name": "stdout",
          "text": [
            "--- On epoch 0 ---\n",
            "| Loss:  1.62248087\n",
            "--- On epoch 1 ---\n",
            "| Loss:  1.51222599\n",
            "--- On epoch 2 ---\n",
            "| Loss:  1.49516034\n",
            "--- On epoch 3 ---\n",
            "| Loss:  1.48616743\n",
            "--- On epoch 4 ---\n",
            "| Loss:  1.48058653\n",
            "--- On epoch 5 ---\n",
            "| Loss:  1.47658944\n",
            "--- On epoch 6 ---\n",
            "| Loss:  1.4738276\n",
            "--- On epoch 7 ---\n",
            "| Loss:  1.47174227\n",
            "--- On epoch 8 ---\n",
            "| Loss:  1.46987212\n",
            "--- On epoch 9 ---\n",
            "| Loss:  1.46852207\n"
          ]
        }
      ]
    },
    {
      "cell_type": "markdown",
      "source": [
        "Evaluation"
      ],
      "metadata": {
        "id": "ExPvndKuLRaP"
      }
    },
    {
      "cell_type": "code",
      "source": [
        "acc = 0 \n",
        "for test_data in test_dataset:\n",
        "    batch_images, batch_labels = test_data\n",
        "    predictions = model(batch_images)\n",
        "    predictions = tf.nn.softmax(predictions)\n",
        "    equality = tf.math.equal(np.argmax(predictions, axis=1), np.argmax(batch_labels, axis=1))\n",
        "    acc += np.sum(equality)\n",
        "acc /= 10000\n",
        "print(acc)"
      ],
      "metadata": {
        "colab": {
          "base_uri": "https://localhost:8080/"
        },
        "id": "PCd6iT56K-0b",
        "outputId": "129a4204-c9bf-48db-9200-6bd056ff7e07"
      },
      "execution_count": 28,
      "outputs": [
        {
          "output_type": "stream",
          "name": "stdout",
          "text": [
            "0.9788\n"
          ]
        }
      ]
    }
  ]
}