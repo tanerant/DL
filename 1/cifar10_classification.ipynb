{
  "cells": [
    {
      "cell_type": "code",
      "execution_count": 2,
      "metadata": {
        "id": "j_eG-qod_gZJ"
      },
      "outputs": [],
      "source": [
        "from tensorflow import keras\n",
        "import numpy as np\n",
        "import matplotlib.pyplot as plt\n",
        "import math\n",
        "import random"
      ]
    },
    {
      "cell_type": "code",
      "execution_count": 3,
      "metadata": {
        "colab": {
          "base_uri": "https://localhost:8080/"
        },
        "id": "bahFYAjS_gZO",
        "outputId": "ad3b178c-b249-4bfa-dbb1-efa6c19c99db"
      },
      "outputs": [
        {
          "output_type": "stream",
          "name": "stdout",
          "text": [
            "Downloading data from https://www.cs.toronto.edu/~kriz/cifar-10-python.tar.gz\n",
            "170500096/170498071 [==============================] - 4s 0us/step\n",
            "170508288/170498071 [==============================] - 4s 0us/step\n"
          ]
        }
      ],
      "source": [
        "(x_train, y_train), (x_test, y_test) = keras.datasets.cifar10.load_data()"
      ]
    },
    {
      "cell_type": "code",
      "execution_count": 4,
      "metadata": {
        "colab": {
          "base_uri": "https://localhost:8080/"
        },
        "id": "HN-5T9WD_gZQ",
        "outputId": "a18c058e-79f6-4da5-bdf4-87d02293234b"
      },
      "outputs": [
        {
          "output_type": "stream",
          "name": "stdout",
          "text": [
            "(50000, 32, 32, 3)\n",
            "(50000, 1)\n",
            "(10000, 32, 32, 3)\n",
            "(10000, 1)\n"
          ]
        }
      ],
      "source": [
        "print(x_train.shape)\n",
        "print(y_train.shape)\n",
        "\n",
        "print(x_test.shape)\n",
        "print(y_test.shape)"
      ]
    },
    {
      "cell_type": "code",
      "execution_count": 5,
      "metadata": {
        "colab": {
          "base_uri": "https://localhost:8080/",
          "height": 283
        },
        "id": "heMHhtHC_gZT",
        "outputId": "e57b1b02-01b4-4e3a-8d9a-fdf3b8d90b82"
      },
      "outputs": [
        {
          "output_type": "stream",
          "name": "stdout",
          "text": [
            "[9]\n"
          ]
        },
        {
          "output_type": "display_data",
          "data": {
            "image/png": "[encoded data removed]",
            "text/plain": [
              "<Figure size 432x288 with 1 Axes>"
            ]
          },
          "metadata": {
            "needs_background": "light"
          }
        }
      ],
      "source": [
        "plt.imshow(x_train[15])\n",
        "print(y_train[15])"
      ]
    },
    {
      "cell_type": "code",
      "execution_count": 7,
      "metadata": {
        "id": "4z_K05C9_gZZ"
      },
      "outputs": [],
      "source": [
        "x_train = x_train.astype(\"float32\") / 255.0\n",
        "x_test = x_test.astype(\"float32\") / 255.0\n",
        "y_train = keras.utils.to_categorical(y_train, 10)\n",
        "y_test = keras.utils.to_categorical(y_test, 10)"
      ]
    },
    {
      "cell_type": "code",
      "execution_count": 8,
      "metadata": {
        "id": "JfPEuBig_gZa"
      },
      "outputs": [],
      "source": [
        "from keras.layers import Conv2D, BatchNormalization, Dropout, Dense, Flatten, MaxPool2D\n",
        "from keras.models import Sequential\n",
        "\n",
        "cifar10 = Sequential()\n",
        "\n",
        "cifar10.add(BatchNormalization())\n",
        "cifar10.add(Conv2D(64,(5,5),activation = 'tanh', padding = 'same'))\n",
        "cifar10.add(MaxPool2D())\n",
        "cifar10.add(Dropout(0.2))\n",
        "\n",
        "cifar10.add(BatchNormalization())\n",
        "cifar10.add(Conv2D(128,(5,5),activation = 'tanh', padding = 'same'))\n",
        "cifar10.add(MaxPool2D())\n",
        "cifar10.add(Dropout(0.2))\n",
        "\n",
        "cifar10.add(BatchNormalization())\n",
        "cifar10.add(Conv2D(256,(5,5),activation = 'tanh', padding = 'same'))\n",
        "cifar10.add(MaxPool2D())\n",
        "cifar10.add(Dropout(0.2))\n",
        "\n",
        "cifar10.add(Flatten())\n",
        "cifar10.add(Dense(10,activation = 'softmax'))"
      ]
    },
    {
      "cell_type": "code",
      "execution_count": 9,
      "metadata": {
        "id": "lQYl3GvJ_gZc"
      },
      "outputs": [],
      "source": [
        "from tensorflow.keras.optimizers import Adam\n",
        "\n",
        "opt = Adam(learning_rate = 0.001)\n",
        "\n",
        "cifar10.compile(optimizer = opt,\n",
        "               loss = 'categorical_crossentropy',\n",
        "               metrics = ['accuracy'])"
      ]
    },
    {
      "cell_type": "code",
      "execution_count": 10,
      "metadata": {
        "colab": {
          "base_uri": "https://localhost:8080/"
        },
        "id": "8S0hTSVy_gZf",
        "outputId": "ae09fa55-fc78-4156-aad0-8fd92f8b1ba7"
      },
      "outputs": [
        {
          "output_type": "stream",
          "name": "stdout",
          "text": [
            "Epoch 1/3\n",
            "450/450 [==============================] - 757s 2s/step - loss: 1.6156 - accuracy: 0.4596 - val_loss: 1.3007 - val_accuracy: 0.5554\n",
            "Epoch 2/3\n",
            "450/450 [==============================] - 770s 2s/step - loss: 1.2291 - accuracy: 0.5831 - val_loss: 1.1467 - val_accuracy: 0.6180\n",
            "Epoch 3/3\n",
            "450/450 [==============================] - 776s 2s/step - loss: 1.0755 - accuracy: 0.6330 - val_loss: 1.0251 - val_accuracy: 0.6550\n"
          ]
        },
        {
          "output_type": "execute_result",
          "data": {
            "text/plain": [
              "<keras.callbacks.History at 0x7f3b26d60fd0>"
            ]
          },
          "metadata": {},
          "execution_count": 10
        }
      ],
      "source": [
        "cifar10.fit(x_train, y_train, batch_size=100, epochs=3, validation_split = 0.1)"
      ]
    },
    {
      "cell_type": "code",
      "execution_count": 11,
      "metadata": {
        "colab": {
          "base_uri": "https://localhost:8080/"
        },
        "id": "R-SizdSZ_gZg",
        "outputId": "6b4c94ff-1d62-4bfb-ba5c-635a1f21f1bd"
      },
      "outputs": [
        {
          "output_type": "stream",
          "name": "stdout",
          "text": [
            "313/313 [==============================] - 43s 137ms/step - loss: 1.0713 - accuracy: 0.6361\n"
          ]
        },
        {
          "output_type": "execute_result",
          "data": {
            "text/plain": [
              "[1.0713014602661133, 0.6360999941825867]"
            ]
          },
          "metadata": {},
          "execution_count": 11
        }
      ],
      "source": [
        "cifar10.evaluate(x_test, y_test)"
      ]
    },
    {
      "cell_type": "code",
      "execution_count": 13,
      "metadata": {
        "colab": {
          "base_uri": "https://localhost:8080/",
          "height": 301
        },
        "id": "dzpcFnHS_gZi",
        "outputId": "b37c7764-1b7f-481b-b82f-4405c4337ea4"
      },
      "outputs": [
        {
          "output_type": "stream",
          "name": "stdout",
          "text": [
            "7\n",
            "7\n"
          ]
        },
        {
          "output_type": "display_data",
          "data": {
            "image/png": "[encoded data removed]",
            "text/plain": [
              "<Figure size 432x288 with 1 Axes>"
            ]
          },
          "metadata": {
            "needs_background": "light"
          }
        }
      ],
      "source": [
        "randind = int(random.random() * 1000)\n",
        "plt.imshow(x_test[randind])\n",
        "print(np.argmax(cifar10.predict(x_test[[randind]])))\n",
        "print(np.argmax(y_test[randind]))"
      ]
    }
  ],
  "metadata": {
    "kernelspec": {
      "display_name": "Python 3 (ipykernel)",
      "language": "python",
      "name": "python3"
    },
    "language_info": {
      "codemirror_mode": {
        "name": "ipython",
        "version": 3
      },
      "file_extension": ".py",
      "mimetype": "text/x-python",
      "name": "python",
      "nbconvert_exporter": "python",
      "pygments_lexer": "ipython3",
      "version": "3.9.7"
    },
    "colab": {
      "name": "cifar10_classification.ipynb",
      "provenance": [],
      "collapsed_sections": []
    }
  },
  "nbformat": 4,
  "nbformat_minor": 0
}